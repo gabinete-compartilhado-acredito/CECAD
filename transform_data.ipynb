{
 "cells": [
  {
   "cell_type": "code",
   "execution_count": 20,
   "metadata": {},
   "outputs": [],
   "source": [
    "import os\n",
    "import pandas as pd\n",
    "from datetime import datetime"
   ]
  },
  {
   "cell_type": "code",
   "execution_count": 16,
   "metadata": {},
   "outputs": [],
   "source": [
    "siglas = pd.read_csv('Utils/estados_siglas.csv', usecols=['Sigla', 'Estado'])\n",
    "uf_pes_cecad = pd.read_csv('Data/Pessoas/UF_CECAD.csv')\n",
    "uf_fam_cecad = pd.read_csv('Data/Fam/UF_CECAD.csv')\n",
    "br_fam_cecad = pd.read_csv('Data/Fam/BR_CECAD.csv')\n",
    "br_pes_cecad = pd.read_csv('Data/Pessoas/BR_CECAD.csv')"
   ]
  },
  {
   "cell_type": "code",
   "execution_count": 4,
   "metadata": {},
   "outputs": [],
   "source": [
    "def to_date(df):\n",
    "    df['data'] = df['ano'].astype(str) + '-' + df['mes'].apply(lambda x: '0' + str(x) if x < 10 else str(x))\n",
    "    df['data'] = pd.to_datetime(df['data'], format='%Y-%m')"
   ]
  },
  {
   "cell_type": "code",
   "execution_count": 5,
   "metadata": {},
   "outputs": [
    {
     "name": "stdout",
     "output_type": "stream",
     "text": [
      "Arquivo lido. Restam 5 arquivos...\n",
      "Arquivo lido. Restam 4 arquivos...\n",
      "Arquivo lido. Restam 3 arquivos...\n",
      "Arquivo lido. Restam 2 arquivos...\n",
      "Arquivo lido. Restam 1 arquivos...\n",
      "Arquivo lido. Restam 0 arquivos...\n"
     ]
    }
   ],
   "source": [
    "dir = os.listdir(\"Data/Fam/\")\n",
    "total = len(dir)\n",
    "dfs=[]\n",
    "for file in dir:\n",
    "    df = pd.read_csv(f\"Data/Fam/{file}\", header=0, index_col='Código')\n",
    "    df['ano'] = df['Referência'].apply(lambda x: int(x.split('/')[1]))\n",
    "    df['mes'] = df['Referência'].apply(lambda x: int(x.split('/')[0]))\n",
    "    df.drop(columns=['Referência'], inplace=True)\n",
    "    df.set_index(['UF','Unidade Territorial','ano','mes'], inplace=True)\n",
    "    dfs.append(df)\n",
    "    print('Arquivo lido. Restam', total-len(dfs), 'arquivos...')\n",
    "df = pd.concat(dfs, axis=1)\n"
   ]
  },
  {
   "cell_type": "code",
   "execution_count": 6,
   "metadata": {},
   "outputs": [],
   "source": [
    "df.rename(columns={\n",
    "    'Famílias não beneficiárias no Programa Bolsa Família/Programa Auxílio Brasil em situação de extrema pobreza':'fam_nao_benef_ext_pobreza',\n",
    "    'Famílias beneficiárias no Programa Bolsa Família/Programa Auxílio Brasil em situação de pobreza':'fam_benef_pobreza',\n",
    "    'Famílias beneficiárias no Programa Bolsa Família/Programa Auxílio Brasil em situação de extrema pobreza':'fam_benef_ext_pobreza',\n",
    "    'Famílias não beneficiárias no Programa Bolsa Família/Programa Auxílio Brasil em situação de pobreza':'fam_nao_benef_pobreza',\n",
    "    'Famílias inscritas no Cadastro Único em situação de extrema pobreza':'fam_inscritas_ext_pobreza',\n",
    "    'Famílias inscritas no Cadastro Único em situação de pobreza':'fam_insc_pobreza',\n",
    "    },\n",
    "    inplace = True)"
   ]
  },
  {
   "cell_type": "code",
   "execution_count": 7,
   "metadata": {},
   "outputs": [],
   "source": [
    "df['demanda_reprimida_total'] = df['fam_nao_benef_pobreza'] + df['fam_nao_benef_ext_pobreza']"
   ]
  },
  {
   "cell_type": "code",
   "execution_count": 8,
   "metadata": {},
   "outputs": [],
   "source": [
    "uf = df.groupby(['ano','mes','UF']).sum()"
   ]
  },
  {
   "cell_type": "code",
   "execution_count": 9,
   "metadata": {},
   "outputs": [],
   "source": [
    "br = df.groupby(['ano','mes']).sum()"
   ]
  },
  {
   "cell_type": "code",
   "execution_count": 10,
   "metadata": {},
   "outputs": [],
   "source": [
    "df.reset_index(inplace=True)\n",
    "uf.reset_index(inplace=True)\n",
    "br.reset_index(inplace=True)"
   ]
  },
  {
   "cell_type": "code",
   "execution_count": 33,
   "metadata": {},
   "outputs": [
    {
     "data": {
      "text/html": [
       "<div>\n",
       "<style scoped>\n",
       "    .dataframe tbody tr th:only-of-type {\n",
       "        vertical-align: middle;\n",
       "    }\n",
       "\n",
       "    .dataframe tbody tr th {\n",
       "        vertical-align: top;\n",
       "    }\n",
       "\n",
       "    .dataframe thead th {\n",
       "        text-align: right;\n",
       "    }\n",
       "</style>\n",
       "<table border=\"1\" class=\"dataframe\">\n",
       "  <thead>\n",
       "    <tr style=\"text-align: right;\">\n",
       "      <th></th>\n",
       "      <th>ano</th>\n",
       "      <th>mes</th>\n",
       "      <th>UF</th>\n",
       "      <th>fam_nao_benef_ext_pobreza</th>\n",
       "      <th>fam_benef_pobreza</th>\n",
       "      <th>fam_benef_ext_pobreza</th>\n",
       "      <th>fam_nao_benef_pobreza</th>\n",
       "      <th>fam_inscritas_ext_pobreza</th>\n",
       "      <th>fam_insc_pobreza</th>\n",
       "      <th>demanda_reprimida_total</th>\n",
       "      <th>data</th>\n",
       "      <th>nao_recebe_pessoas</th>\n",
       "      <th>recebe_pessoas</th>\n",
       "      <th>sem_resposta</th>\n",
       "      <th>total_pessoas</th>\n",
       "      <th>Estado</th>\n",
       "    </tr>\n",
       "  </thead>\n",
       "  <tbody>\n",
       "    <tr>\n",
       "      <th>0</th>\n",
       "      <td>2012</td>\n",
       "      <td>8</td>\n",
       "      <td>AC</td>\n",
       "      <td>0.0</td>\n",
       "      <td>0.0</td>\n",
       "      <td>0.0</td>\n",
       "      <td>0.0</td>\n",
       "      <td>66434</td>\n",
       "      <td>24358</td>\n",
       "      <td>0.0</td>\n",
       "      <td>2012-08-01</td>\n",
       "      <td>NaN</td>\n",
       "      <td>NaN</td>\n",
       "      <td>NaN</td>\n",
       "      <td>NaN</td>\n",
       "      <td>ACRE</td>\n",
       "    </tr>\n",
       "    <tr>\n",
       "      <th>1</th>\n",
       "      <td>2012</td>\n",
       "      <td>8</td>\n",
       "      <td>AL</td>\n",
       "      <td>0.0</td>\n",
       "      <td>0.0</td>\n",
       "      <td>0.0</td>\n",
       "      <td>0.0</td>\n",
       "      <td>417404</td>\n",
       "      <td>110517</td>\n",
       "      <td>0.0</td>\n",
       "      <td>2012-08-01</td>\n",
       "      <td>NaN</td>\n",
       "      <td>NaN</td>\n",
       "      <td>NaN</td>\n",
       "      <td>NaN</td>\n",
       "      <td>ALAGOAS</td>\n",
       "    </tr>\n",
       "    <tr>\n",
       "      <th>2</th>\n",
       "      <td>2012</td>\n",
       "      <td>8</td>\n",
       "      <td>AM</td>\n",
       "      <td>0.0</td>\n",
       "      <td>0.0</td>\n",
       "      <td>0.0</td>\n",
       "      <td>0.0</td>\n",
       "      <td>317456</td>\n",
       "      <td>83948</td>\n",
       "      <td>0.0</td>\n",
       "      <td>2012-08-01</td>\n",
       "      <td>NaN</td>\n",
       "      <td>NaN</td>\n",
       "      <td>NaN</td>\n",
       "      <td>NaN</td>\n",
       "      <td>AMAZONAS</td>\n",
       "    </tr>\n",
       "    <tr>\n",
       "      <th>3</th>\n",
       "      <td>2012</td>\n",
       "      <td>8</td>\n",
       "      <td>AP</td>\n",
       "      <td>0.0</td>\n",
       "      <td>0.0</td>\n",
       "      <td>0.0</td>\n",
       "      <td>0.0</td>\n",
       "      <td>55886</td>\n",
       "      <td>16010</td>\n",
       "      <td>0.0</td>\n",
       "      <td>2012-08-01</td>\n",
       "      <td>NaN</td>\n",
       "      <td>NaN</td>\n",
       "      <td>NaN</td>\n",
       "      <td>NaN</td>\n",
       "      <td>AMAPÁ</td>\n",
       "    </tr>\n",
       "    <tr>\n",
       "      <th>4</th>\n",
       "      <td>2012</td>\n",
       "      <td>8</td>\n",
       "      <td>BA</td>\n",
       "      <td>0.0</td>\n",
       "      <td>0.0</td>\n",
       "      <td>0.0</td>\n",
       "      <td>0.0</td>\n",
       "      <td>1831657</td>\n",
       "      <td>429469</td>\n",
       "      <td>0.0</td>\n",
       "      <td>2012-08-01</td>\n",
       "      <td>NaN</td>\n",
       "      <td>NaN</td>\n",
       "      <td>NaN</td>\n",
       "      <td>NaN</td>\n",
       "      <td>BAHIA</td>\n",
       "    </tr>\n",
       "  </tbody>\n",
       "</table>\n",
       "</div>"
      ],
      "text/plain": [
       "    ano  mes  UF  fam_nao_benef_ext_pobreza  fam_benef_pobreza  \\\n",
       "0  2012    8  AC                        0.0                0.0   \n",
       "1  2012    8  AL                        0.0                0.0   \n",
       "2  2012    8  AM                        0.0                0.0   \n",
       "3  2012    8  AP                        0.0                0.0   \n",
       "4  2012    8  BA                        0.0                0.0   \n",
       "\n",
       "   fam_benef_ext_pobreza  fam_nao_benef_pobreza  fam_inscritas_ext_pobreza  \\\n",
       "0                    0.0                    0.0                      66434   \n",
       "1                    0.0                    0.0                     417404   \n",
       "2                    0.0                    0.0                     317456   \n",
       "3                    0.0                    0.0                      55886   \n",
       "4                    0.0                    0.0                    1831657   \n",
       "\n",
       "   fam_insc_pobreza  demanda_reprimida_total       data nao_recebe_pessoas  \\\n",
       "0             24358                      0.0 2012-08-01                NaN   \n",
       "1            110517                      0.0 2012-08-01                NaN   \n",
       "2             83948                      0.0 2012-08-01                NaN   \n",
       "3             16010                      0.0 2012-08-01                NaN   \n",
       "4            429469                      0.0 2012-08-01                NaN   \n",
       "\n",
       "  recebe_pessoas  sem_resposta total_pessoas    Estado  \n",
       "0            NaN           NaN           NaN      ACRE  \n",
       "1            NaN           NaN           NaN   ALAGOAS  \n",
       "2            NaN           NaN           NaN  AMAZONAS  \n",
       "3            NaN           NaN           NaN     AMAPÁ  \n",
       "4            NaN           NaN           NaN     BAHIA  "
      ]
     },
     "execution_count": 33,
     "metadata": {},
     "output_type": "execute_result"
    }
   ],
   "source": [
    "uf.head()"
   ]
  },
  {
   "cell_type": "code",
   "execution_count": 11,
   "metadata": {},
   "outputs": [],
   "source": [
    "to_date(br)\n",
    "to_date(uf)\n",
    "to_date(df)"
   ]
  },
  {
   "cell_type": "code",
   "execution_count": 24,
   "metadata": {},
   "outputs": [],
   "source": [
    "max_year = datetime.strptime('2022-05-01', '%Y-%m-%d').year\n",
    "max_month = datetime.strptime('2022-05-01', '%Y-%m-%d').month"
   ]
  },
  {
   "cell_type": "code",
   "execution_count": 25,
   "metadata": {},
   "outputs": [],
   "source": [
    "uf_cecad.columns = ['UF', 'Estado', 'nao_recebe_pessoas', 'recebe_pessoas', 'sem_resposta', 'total_pessoas']\n",
    "uf_cecad['ano'] = max_year\n",
    "uf_cecad['mes'] = max_month\n",
    "uf_cecad.drop(columns=['Estado'], inplace=True)"
   ]
  },
  {
   "cell_type": "code",
   "execution_count": 26,
   "metadata": {},
   "outputs": [],
   "source": [
    "uf = uf.merge(uf_cecad, on=['UF', 'ano', 'mes'], how='left').merge(siglas, left_on='UF', right_on='Sigla', how='left')\n",
    "uf.drop(columns=['Sigla'], inplace=True)"
   ]
  },
  {
   "cell_type": "code",
   "execution_count": 27,
   "metadata": {},
   "outputs": [],
   "source": [
    "br_cecad.columns = ['Brasil', 'nao_recebe_pessoas', 'recebe_pessoas', 'sem_resposta', 'total_pessoas']\n",
    "br_cecad['ano'] = max_year\n",
    "br_cecad['mes'] = max_month"
   ]
  },
  {
   "cell_type": "code",
   "execution_count": 31,
   "metadata": {},
   "outputs": [
    {
     "data": {
      "text/html": [
       "<div>\n",
       "<style scoped>\n",
       "    .dataframe tbody tr th:only-of-type {\n",
       "        vertical-align: middle;\n",
       "    }\n",
       "\n",
       "    .dataframe tbody tr th {\n",
       "        vertical-align: top;\n",
       "    }\n",
       "\n",
       "    .dataframe thead th {\n",
       "        text-align: right;\n",
       "    }\n",
       "</style>\n",
       "<table border=\"1\" class=\"dataframe\">\n",
       "  <thead>\n",
       "    <tr style=\"text-align: right;\">\n",
       "      <th></th>\n",
       "      <th>ano</th>\n",
       "      <th>mes</th>\n",
       "      <th>fam_nao_benef_ext_pobreza</th>\n",
       "      <th>fam_benef_pobreza</th>\n",
       "      <th>fam_benef_ext_pobreza</th>\n",
       "      <th>fam_nao_benef_pobreza</th>\n",
       "      <th>fam_inscritas_ext_pobreza</th>\n",
       "      <th>fam_insc_pobreza</th>\n",
       "      <th>demanda_reprimida_total</th>\n",
       "      <th>data</th>\n",
       "    </tr>\n",
       "  </thead>\n",
       "  <tbody>\n",
       "    <tr>\n",
       "      <th>0</th>\n",
       "      <td>2012</td>\n",
       "      <td>8</td>\n",
       "      <td>0.0</td>\n",
       "      <td>0.0</td>\n",
       "      <td>0.0</td>\n",
       "      <td>0.0</td>\n",
       "      <td>12897221</td>\n",
       "      <td>5265743</td>\n",
       "      <td>0.0</td>\n",
       "      <td>2012-08-01</td>\n",
       "    </tr>\n",
       "    <tr>\n",
       "      <th>1</th>\n",
       "      <td>2012</td>\n",
       "      <td>9</td>\n",
       "      <td>0.0</td>\n",
       "      <td>0.0</td>\n",
       "      <td>0.0</td>\n",
       "      <td>0.0</td>\n",
       "      <td>13006755</td>\n",
       "      <td>5278170</td>\n",
       "      <td>0.0</td>\n",
       "      <td>2012-09-01</td>\n",
       "    </tr>\n",
       "    <tr>\n",
       "      <th>2</th>\n",
       "      <td>2012</td>\n",
       "      <td>10</td>\n",
       "      <td>0.0</td>\n",
       "      <td>0.0</td>\n",
       "      <td>0.0</td>\n",
       "      <td>0.0</td>\n",
       "      <td>13076366</td>\n",
       "      <td>5288902</td>\n",
       "      <td>0.0</td>\n",
       "      <td>2012-10-01</td>\n",
       "    </tr>\n",
       "    <tr>\n",
       "      <th>3</th>\n",
       "      <td>2012</td>\n",
       "      <td>11</td>\n",
       "      <td>0.0</td>\n",
       "      <td>0.0</td>\n",
       "      <td>0.0</td>\n",
       "      <td>0.0</td>\n",
       "      <td>13131359</td>\n",
       "      <td>5298295</td>\n",
       "      <td>0.0</td>\n",
       "      <td>2012-11-01</td>\n",
       "    </tr>\n",
       "    <tr>\n",
       "      <th>4</th>\n",
       "      <td>2012</td>\n",
       "      <td>12</td>\n",
       "      <td>0.0</td>\n",
       "      <td>0.0</td>\n",
       "      <td>0.0</td>\n",
       "      <td>0.0</td>\n",
       "      <td>13161099</td>\n",
       "      <td>5311337</td>\n",
       "      <td>0.0</td>\n",
       "      <td>2012-12-01</td>\n",
       "    </tr>\n",
       "  </tbody>\n",
       "</table>\n",
       "</div>"
      ],
      "text/plain": [
       "    ano  mes  fam_nao_benef_ext_pobreza  fam_benef_pobreza  \\\n",
       "0  2012    8                        0.0                0.0   \n",
       "1  2012    9                        0.0                0.0   \n",
       "2  2012   10                        0.0                0.0   \n",
       "3  2012   11                        0.0                0.0   \n",
       "4  2012   12                        0.0                0.0   \n",
       "\n",
       "   fam_benef_ext_pobreza  fam_nao_benef_pobreza  fam_inscritas_ext_pobreza  \\\n",
       "0                    0.0                    0.0                   12897221   \n",
       "1                    0.0                    0.0                   13006755   \n",
       "2                    0.0                    0.0                   13076366   \n",
       "3                    0.0                    0.0                   13131359   \n",
       "4                    0.0                    0.0                   13161099   \n",
       "\n",
       "   fam_insc_pobreza  demanda_reprimida_total       data  \n",
       "0           5265743                      0.0 2012-08-01  \n",
       "1           5278170                      0.0 2012-09-01  \n",
       "2           5288902                      0.0 2012-10-01  \n",
       "3           5298295                      0.0 2012-11-01  \n",
       "4           5311337                      0.0 2012-12-01  "
      ]
     },
     "execution_count": 31,
     "metadata": {},
     "output_type": "execute_result"
    }
   ],
   "source": [
    "br.head()"
   ]
  },
  {
   "cell_type": "code",
   "execution_count": 30,
   "metadata": {},
   "outputs": [
    {
     "data": {
      "text/html": [
       "<div>\n",
       "<style scoped>\n",
       "    .dataframe tbody tr th:only-of-type {\n",
       "        vertical-align: middle;\n",
       "    }\n",
       "\n",
       "    .dataframe tbody tr th {\n",
       "        vertical-align: top;\n",
       "    }\n",
       "\n",
       "    .dataframe thead th {\n",
       "        text-align: right;\n",
       "    }\n",
       "</style>\n",
       "<table border=\"1\" class=\"dataframe\">\n",
       "  <thead>\n",
       "    <tr style=\"text-align: right;\">\n",
       "      <th></th>\n",
       "      <th>Brasil</th>\n",
       "      <th>nao_recebe_pessoas</th>\n",
       "      <th>recebe_pessoas</th>\n",
       "      <th>sem_resposta</th>\n",
       "      <th>total_pessoas</th>\n",
       "      <th>ano</th>\n",
       "      <th>mes</th>\n",
       "    </tr>\n",
       "  </thead>\n",
       "  <tbody>\n",
       "    <tr>\n",
       "      <th>0</th>\n",
       "      <td>Brasil</td>\n",
       "      <td>7.390.728</td>\n",
       "      <td>48.587.348</td>\n",
       "      <td>0</td>\n",
       "      <td>55.978.076</td>\n",
       "      <td>2022</td>\n",
       "      <td>5</td>\n",
       "    </tr>\n",
       "  </tbody>\n",
       "</table>\n",
       "</div>"
      ],
      "text/plain": [
       "   Brasil nao_recebe_pessoas recebe_pessoas  sem_resposta total_pessoas   ano  \\\n",
       "0  Brasil          7.390.728     48.587.348             0    55.978.076  2022   \n",
       "\n",
       "   mes  \n",
       "0    5  "
      ]
     },
     "execution_count": 30,
     "metadata": {},
     "output_type": "execute_result"
    }
   ],
   "source": [
    "br_cecad"
   ]
  },
  {
   "cell_type": "code",
   "execution_count": null,
   "metadata": {},
   "outputs": [],
   "source": [
    "br = br.merge(br_cecad, on=['ano', 'mes'], how='left')\n",
    "uf.drop(columns=['Sigla'], inplace=True)"
   ]
  },
  {
   "cell_type": "code",
   "execution_count": 43,
   "metadata": {},
   "outputs": [],
   "source": [
    "for col in [col for col in uf.columns if 'pessoas' in col]:\n",
    "    uf[col] = uf[col].apply(lambda x: float(str(x).replace('.', '')))"
   ]
  },
  {
   "cell_type": "code",
   "execution_count": 44,
   "metadata": {},
   "outputs": [],
   "source": [
    "dt = datetime.datetime.now()\n",
    "br['ts'] = datetime.date(dt.year, dt.month, dt.day)"
   ]
  },
  {
   "cell_type": "code",
   "execution_count": 48,
   "metadata": {},
   "outputs": [],
   "source": [
    "br.to_parquet('Results/fam_br.parquet')\n",
    "uf.to_parquet('Results/fam_uf.parquet')\n",
    "df.to_parquet('Results/fam_mun.parquet')"
   ]
  }
 ],
 "metadata": {
  "kernelspec": {
   "display_name": "Python 3.9.7 ('scraping')",
   "language": "python",
   "name": "python3"
  },
  "language_info": {
   "codemirror_mode": {
    "name": "ipython",
    "version": 3
   },
   "file_extension": ".py",
   "mimetype": "text/x-python",
   "name": "python",
   "nbconvert_exporter": "python",
   "pygments_lexer": "ipython3",
   "version": "3.9.7"
  },
  "orig_nbformat": 4,
  "vscode": {
   "interpreter": {
    "hash": "0b57a106df503026757037a3564c5b06bb9bd0ebd4985fd2fe126eeda7bdee66"
   }
  }
 },
 "nbformat": 4,
 "nbformat_minor": 2
}
