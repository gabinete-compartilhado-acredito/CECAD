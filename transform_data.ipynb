{
 "cells": [
  {
   "cell_type": "code",
   "execution_count": 1,
   "metadata": {},
   "outputs": [],
   "source": [
    "import os\n",
    "import pandas as pd\n",
    "from datetime import datetime"
   ]
  },
  {
   "cell_type": "code",
   "execution_count": 2,
   "metadata": {},
   "outputs": [],
   "source": [
    "def to_date(df):\n",
    "    df['data'] = df['ano'].astype(str) + '-' + df['mes'].apply(lambda x: '0' + str(x) if x < 10 else str(x))\n",
    "    df['data'] = pd.to_datetime(df['data'], format='%Y-%m')"
   ]
  },
  {
   "cell_type": "markdown",
   "metadata": {},
   "source": [
    "## Carregando e tratando dados da SAGI"
   ]
  },
  {
   "cell_type": "code",
   "execution_count": 3,
   "metadata": {},
   "outputs": [
    {
     "name": "stdout",
     "output_type": "stream",
     "text": [
      "Arquivo lido. Restam 5 arquivos...\n",
      "Arquivo lido. Restam 4 arquivos...\n",
      "Arquivo lido. Restam 3 arquivos...\n",
      "Arquivo lido. Restam 2 arquivos...\n",
      "Arquivo lido. Restam 1 arquivos...\n",
      "Arquivo lido. Restam 0 arquivos...\n"
     ]
    }
   ],
   "source": [
    "files = [f for f in os.listdir(\"Data/Fam/\") if os.path.isfile(os.path.join(\"Data/Fam/\", f))]\n",
    "total = len(files)\n",
    "dfs=[]\n",
    "for file in files:\n",
    "    df = pd.read_csv(f\"Data/Fam/{file}\", header=0, index_col='Código')\n",
    "    df['ano'] = df['Referência'].apply(lambda x: int(x.split('/')[1]))\n",
    "    df['mes'] = df['Referência'].apply(lambda x: int(x.split('/')[0]))\n",
    "    df.drop(columns=['Referência'], inplace=True)\n",
    "    df.set_index(['UF','Unidade Territorial','ano','mes'], inplace=True)\n",
    "    dfs.append(df)\n",
    "    print('Arquivo lido. Restam', total-len(dfs), 'arquivos...')\n",
    "df = pd.concat(dfs, axis=1)\n"
   ]
  },
  {
   "cell_type": "code",
   "execution_count": 4,
   "metadata": {},
   "outputs": [],
   "source": [
    "df.rename(columns={\n",
    "    'Famílias não beneficiárias no Programa Bolsa Família/Programa Auxílio Brasil em situação de extrema pobreza':'fam_nao_benef_ext_pobreza',\n",
    "    'Famílias beneficiárias no Programa Bolsa Família/Programa Auxílio Brasil em situação de pobreza':'fam_benef_pobreza',\n",
    "    'Famílias beneficiárias no Programa Bolsa Família/Programa Auxílio Brasil em situação de extrema pobreza':'fam_benef_ext_pobreza',\n",
    "    'Famílias não beneficiárias no Programa Bolsa Família/Programa Auxílio Brasil em situação de pobreza':'fam_nao_benef_pobreza',\n",
    "    'Famílias inscritas no Cadastro Único em situação de extrema pobreza':'fam_inscritas_ext_pobreza',\n",
    "    'Famílias inscritas no Cadastro Único em situação de pobreza':'fam_insc_pobreza',\n",
    "    },\n",
    "    inplace = True)"
   ]
  },
  {
   "cell_type": "code",
   "execution_count": 5,
   "metadata": {},
   "outputs": [],
   "source": [
    "df['demanda_reprimida_total'] = df['fam_nao_benef_pobreza'] + df['fam_nao_benef_ext_pobreza']"
   ]
  },
  {
   "cell_type": "code",
   "execution_count": 6,
   "metadata": {},
   "outputs": [],
   "source": [
    "uf = df.groupby(['ano','mes','UF']).sum()"
   ]
  },
  {
   "cell_type": "code",
   "execution_count": 7,
   "metadata": {},
   "outputs": [],
   "source": [
    "br = df.groupby(['ano','mes']).sum()"
   ]
  },
  {
   "cell_type": "code",
   "execution_count": 8,
   "metadata": {},
   "outputs": [],
   "source": [
    "df.reset_index(inplace=True)\n",
    "uf.reset_index(inplace=True)\n",
    "br.reset_index(inplace=True)"
   ]
  },
  {
   "cell_type": "code",
   "execution_count": 9,
   "metadata": {},
   "outputs": [
    {
     "data": {
      "text/plain": [
       "Index(['ano', 'mes', 'UF', 'fam_nao_benef_ext_pobreza', 'fam_benef_pobreza',\n",
       "       'fam_benef_ext_pobreza', 'fam_nao_benef_pobreza',\n",
       "       'fam_inscritas_ext_pobreza', 'fam_insc_pobreza',\n",
       "       'demanda_reprimida_total'],\n",
       "      dtype='object')"
      ]
     },
     "execution_count": 9,
     "metadata": {},
     "output_type": "execute_result"
    }
   ],
   "source": [
    "uf.columns"
   ]
  },
  {
   "cell_type": "code",
   "execution_count": 10,
   "metadata": {},
   "outputs": [],
   "source": [
    "to_date(br)\n",
    "to_date(uf)\n",
    "to_date(df)"
   ]
  },
  {
   "cell_type": "markdown",
   "metadata": {},
   "source": [
    "## Carregando e tratando dados do CECAD"
   ]
  },
  {
   "cell_type": "code",
   "execution_count": 11,
   "metadata": {},
   "outputs": [],
   "source": [
    "siglas = pd.read_csv('Utils/estados_siglas.csv', usecols=['Sigla', 'Estado'])\n",
    "uf_pes_cecad = pd.read_csv('Data/Pessoas/CECAD/UF_CECAD.csv')\n",
    "uf_fam_cecad = pd.read_csv('Data/Fam/CECAD/UF_CECAD.csv')\n",
    "br_fam_cecad = pd.read_csv('Data/Fam/CECAD/BR_CECAD.csv')\n",
    "br_pes_cecad = pd.read_csv('Data/Pessoas/CECAD/BR_CECAD.csv')"
   ]
  },
  {
   "cell_type": "code",
   "execution_count": 12,
   "metadata": {},
   "outputs": [],
   "source": [
    "def rename_cols(df, unidade, UF):\n",
    "    if UF:\n",
    "        df.columns = ['semnome','UF', f'{unidade}_nao_benef_ext_pobreza',  f'{unidade}_nao_benef_pobreza', f'{unidade}_benef_ext_pobreza', f'{unidade}_benef_pobreza','sr1','sr2',f'{unidade}_inscritas_ext_pobreza', f'{unidade}_insc_pobreza', 'ano', 'mes']\n",
    "        df.drop(columns=['semnome','sr1','sr2'], inplace=True)\n",
    "    else:\n",
    "        df.columns = ['semnome',f'{unidade}_nao_benef_ext_pobreza',  f'{unidade}_nao_benef_pobreza', f'{unidade}_benef_ext_pobreza', f'{unidade}_benef_pobreza','sr1','sr2',f'{unidade}_inscritas_ext_pobreza', f'{unidade}_insc_pobreza', 'ano', 'mes']\n",
    "        df.drop(columns=['semnome','sr1','sr2'], inplace=True)\n",
    "    return df"
   ]
  },
  {
   "cell_type": "code",
   "execution_count": 13,
   "metadata": {},
   "outputs": [],
   "source": [
    "uf_pes_cecad = rename_cols(uf_pes_cecad, 'pessoas', UF=True)\n",
    "uf_fam_cecad = rename_cols(uf_fam_cecad, 'fam', UF=True)\n",
    "br_fam_cecad = rename_cols(br_fam_cecad, 'fam', UF=False)\n",
    "br_pes_cecad = rename_cols(br_pes_cecad, 'pessoas', UF=False)"
   ]
  },
  {
   "cell_type": "code",
   "execution_count": 14,
   "metadata": {},
   "outputs": [],
   "source": [
    "uf_cecad = pd.merge(uf_pes_cecad, uf_fam_cecad, on=['UF', 'ano', 'mes'])"
   ]
  },
  {
   "cell_type": "code",
   "execution_count": 15,
   "metadata": {},
   "outputs": [],
   "source": [
    "uf_cecad['UF'] = uf_cecad['UF'].apply(lambda x: x.split('-')[0].strip())"
   ]
  },
  {
   "cell_type": "code",
   "execution_count": 16,
   "metadata": {},
   "outputs": [],
   "source": [
    "br_cecad = pd.merge(br_pes_cecad, br_fam_cecad, on=['ano', 'mes'])"
   ]
  },
  {
   "cell_type": "code",
   "execution_count": 17,
   "metadata": {},
   "outputs": [],
   "source": [
    "# uf_cecad = cast_to_int(uf_cecad)\n",
    "# br_cecad = cast_to_int(br_cecad)"
   ]
  },
  {
   "cell_type": "code",
   "execution_count": 18,
   "metadata": {},
   "outputs": [],
   "source": [
    "uf_cecad['demanda_reprimida_total'] = uf_cecad['fam_nao_benef_pobreza'] + uf_cecad['fam_nao_benef_ext_pobreza']\n",
    "br_cecad['demanda_reprimida_total'] = br_cecad['fam_nao_benef_pobreza'] + br_cecad['fam_nao_benef_ext_pobreza']\n",
    "uf_cecad['demanda_reprimida_pessoas'] = uf_cecad['pessoas_nao_benef_pobreza'] + uf_cecad['pessoas_nao_benef_ext_pobreza']\n",
    "br_cecad['demanda_reprimida_pessoas'] = br_cecad['pessoas_nao_benef_pobreza'] + br_cecad['pessoas_nao_benef_ext_pobreza']"
   ]
  },
  {
   "cell_type": "markdown",
   "metadata": {},
   "source": [
    "### Adicionando novas linhas referentes à coleta do CECAD ao dataframe da SAGI"
   ]
  },
  {
   "cell_type": "code",
   "execution_count": 19,
   "metadata": {},
   "outputs": [],
   "source": [
    "uf = pd.concat([uf,uf_cecad]).merge(siglas, left_on='UF', right_on='Sigla', how='left')\n",
    "uf.drop(columns=['Sigla'], inplace=True)"
   ]
  },
  {
   "cell_type": "code",
   "execution_count": 20,
   "metadata": {},
   "outputs": [],
   "source": [
    "br = pd.concat([br,br_cecad])"
   ]
  },
  {
   "cell_type": "code",
   "execution_count": 21,
   "metadata": {},
   "outputs": [],
   "source": [
    "dt = datetime.date(datetime.now())\n",
    "br['ts'] = dt"
   ]
  },
  {
   "cell_type": "code",
   "execution_count": 22,
   "metadata": {},
   "outputs": [],
   "source": [
    "to_date(br)\n",
    "to_date(uf)"
   ]
  },
  {
   "cell_type": "code",
   "execution_count": 23,
   "metadata": {},
   "outputs": [],
   "source": [
    "br.to_parquet('Results/fam_br.parquet')\n",
    "uf.to_parquet('Results/fam_uf.parquet')\n",
    "df.to_parquet('Results/fam_mun.parquet')"
   ]
  },
  {
   "cell_type": "code",
   "execution_count": 24,
   "metadata": {},
   "outputs": [],
   "source": [
    "br.to_parquet('Results/TEST/test_fam_br.parquet')\n",
    "uf.to_parquet('Results/TEST/test_fam_uf.parquet')\n",
    "df.to_parquet('Results/TEST/fam_mun.parquet')"
   ]
  }
 ],
 "metadata": {
  "kernelspec": {
   "display_name": "Python 3.9.7 ('scraping')",
   "language": "python",
   "name": "python3"
  },
  "language_info": {
   "codemirror_mode": {
    "name": "ipython",
    "version": 3
   },
   "file_extension": ".py",
   "mimetype": "text/x-python",
   "name": "python",
   "nbconvert_exporter": "python",
   "pygments_lexer": "ipython3",
   "version": "3.9.13"
  },
  "orig_nbformat": 4,
  "vscode": {
   "interpreter": {
    "hash": "0b57a106df503026757037a3564c5b06bb9bd0ebd4985fd2fe126eeda7bdee66"
   }
  }
 },
 "nbformat": 4,
 "nbformat_minor": 2
}
