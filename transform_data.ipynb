{
 "cells": [
  {
   "cell_type": "code",
   "execution_count": 1,
   "metadata": {},
   "outputs": [],
   "source": [
    "import os\n",
    "import pandas as pd\n",
    "from datetime import datetime"
   ]
  },
  {
   "cell_type": "code",
   "execution_count": 2,
   "metadata": {},
   "outputs": [],
   "source": [
    "def to_date(df):\n",
    "    df['data'] = df['ano'].astype(str) + '-' + df['mes'].apply(lambda x: '0' + str(x) if x < 10 else str(x))\n",
    "    df['data'] = pd.to_datetime(df['data'], format='%Y-%m')"
   ]
  },
  {
   "cell_type": "markdown",
   "metadata": {},
   "source": [
    "## Carregando e tratando dados da SAGI"
   ]
  },
  {
   "cell_type": "code",
   "execution_count": 3,
   "metadata": {},
   "outputs": [
    {
     "name": "stdout",
     "output_type": "stream",
     "text": [
      "Arquivo lido. Restam 5 arquivos...\n",
      "Arquivo lido. Restam 4 arquivos...\n",
      "Arquivo lido. Restam 3 arquivos...\n",
      "Arquivo lido. Restam 2 arquivos...\n",
      "Arquivo lido. Restam 1 arquivos...\n",
      "Arquivo lido. Restam 0 arquivos...\n"
     ]
    }
   ],
   "source": [
    "files = [f for f in os.listdir(\"Data/Fam/\") if os.path.isfile(os.path.join(\"Data/Fam/\", f))]\n",
    "total = len(files)\n",
    "dfs=[]\n",
    "for file in files:\n",
    "    df = pd.read_csv(f\"Data/Fam/{file}\", header=0, index_col='Código')\n",
    "    df['ano'] = df['Referência'].apply(lambda x: int(x.split('/')[1]))\n",
    "    df['mes'] = df['Referência'].apply(lambda x: int(x.split('/')[0]))\n",
    "    df.drop(columns=['Referência'], inplace=True)\n",
    "    df.set_index(['UF','Unidade Territorial','ano','mes'], inplace=True)\n",
    "    dfs.append(df)\n",
    "    print('Arquivo lido. Restam', total-len(dfs), 'arquivos...')\n",
    "df = pd.concat(dfs, axis=1)\n"
   ]
  },
  {
   "cell_type": "code",
   "execution_count": 5,
   "metadata": {},
   "outputs": [],
   "source": [
    "df.rename(columns={\n",
    "    'Famílias não beneficiárias no Programa Bolsa Família/Programa Auxílio Brasil em situação de extrema pobreza':'fam_nao_benef_ext_pobreza',\n",
    "    'Famílias beneficiárias no Programa Bolsa Família/Programa Auxílio Brasil em situação de pobreza':'fam_benef_pobreza',\n",
    "    'Famílias beneficiárias no Programa Bolsa Família/Programa Auxílio Brasil em situação de extrema pobreza':'fam_benef_ext_pobreza',\n",
    "    'Famílias não beneficiárias no Programa Bolsa Família/Programa Auxílio Brasil em situação de pobreza':'fam_nao_benef_pobreza',\n",
    "    'Famílias inscritas no Cadastro Único em situação de extrema pobreza':'fam_inscritas_ext_pobreza',\n",
    "    'Famílias inscritas no Cadastro Único em situação de pobreza':'fam_insc_pobreza',\n",
    "    },\n",
    "    inplace = True)"
   ]
  },
  {
   "cell_type": "code",
   "execution_count": 6,
   "metadata": {},
   "outputs": [],
   "source": [
    "df['demanda_reprimida_total'] = df['fam_nao_benef_pobreza'] + df['fam_nao_benef_ext_pobreza']"
   ]
  },
  {
   "cell_type": "code",
   "execution_count": 7,
   "metadata": {},
   "outputs": [],
   "source": [
    "uf = df.groupby(['ano','mes','UF']).sum()"
   ]
  },
  {
   "cell_type": "code",
   "execution_count": 8,
   "metadata": {},
   "outputs": [],
   "source": [
    "br = df.groupby(['ano','mes']).sum()"
   ]
  },
  {
   "cell_type": "code",
   "execution_count": 9,
   "metadata": {},
   "outputs": [],
   "source": [
    "df.reset_index(inplace=True)\n",
    "uf.reset_index(inplace=True)\n",
    "br.reset_index(inplace=True)"
   ]
  },
  {
   "cell_type": "code",
   "execution_count": 10,
   "metadata": {},
   "outputs": [
    {
     "data": {
      "text/plain": [
       "Index(['ano', 'mes', 'UF', 'fam_nao_benef_ext_pobreza', 'fam_benef_pobreza',\n",
       "       'fam_benef_ext_pobreza', 'fam_nao_benef_pobreza',\n",
       "       'fam_inscritas_ext_pobreza', 'fam_insc_pobreza',\n",
       "       'demanda_reprimida_total'],\n",
       "      dtype='object')"
      ]
     },
     "execution_count": 10,
     "metadata": {},
     "output_type": "execute_result"
    }
   ],
   "source": [
    "uf.columns"
   ]
  },
  {
   "cell_type": "code",
   "execution_count": 11,
   "metadata": {},
   "outputs": [],
   "source": [
    "to_date(br)\n",
    "to_date(uf)\n",
    "to_date(df)"
   ]
  },
  {
   "cell_type": "markdown",
   "metadata": {},
   "source": [
    "## Carregando e tratando dados do CECAD"
   ]
  },
  {
   "cell_type": "code",
   "execution_count": 12,
   "metadata": {},
   "outputs": [],
   "source": [
    "siglas = pd.read_csv('Utils/estados_siglas.csv', usecols=['Sigla', 'Estado'])\n",
    "uf_pes_cecad = pd.read_csv('Data/Pessoas/CECAD/UF_CECAD.csv')\n",
    "uf_fam_cecad = pd.read_csv('Data/Fam/CECAD/UF_CECAD.csv')\n",
    "br_fam_cecad = pd.read_csv('Data/Fam/CECAD/BR_CECAD.csv')\n",
    "br_pes_cecad = pd.read_csv('Data/Pessoas/CECAD/BR_CECAD.csv')"
   ]
  },
  {
   "cell_type": "code",
   "execution_count": 13,
   "metadata": {},
   "outputs": [],
   "source": [
    "def rename_cols(df, unidade, UF):\n",
    "    if UF:\n",
    "        df.columns = ['semnome','UF', f'{unidade}_nao_benef_ext_pobreza',  f'{unidade}_nao_benef_pobreza', f'{unidade}_benef_ext_pobreza', f'{unidade}_benef_pobreza','sr1','sr2',f'{unidade}_inscritas_ext_pobreza', f'{unidade}_insc_pobreza', 'ano', 'mes']\n",
    "        df.drop(columns=['semnome','sr1','sr2'], inplace=True)\n",
    "    else:\n",
    "        df.columns = ['semnome',f'{unidade}_nao_benef_ext_pobreza',  f'{unidade}_nao_benef_pobreza', f'{unidade}_benef_ext_pobreza', f'{unidade}_benef_pobreza','sr1','sr2',f'{unidade}_inscritas_ext_pobreza', f'{unidade}_insc_pobreza', 'ano', 'mes']\n",
    "        df.drop(columns=['semnome','sr1','sr2'], inplace=True)\n",
    "    return df"
   ]
  },
  {
   "cell_type": "code",
   "execution_count": 14,
   "metadata": {},
   "outputs": [],
   "source": [
    "uf_pes_cecad = rename_cols(uf_pes_cecad, 'pessoas', UF=True)\n",
    "uf_fam_cecad = rename_cols(uf_fam_cecad, 'fam', UF=True)\n",
    "br_fam_cecad = rename_cols(br_fam_cecad, 'fam', UF=False)\n",
    "br_pes_cecad = rename_cols(br_pes_cecad, 'pessoas', UF=False)"
   ]
  },
  {
   "cell_type": "code",
   "execution_count": 15,
   "metadata": {},
   "outputs": [],
   "source": [
    "uf_cecad = pd.merge(uf_pes_cecad, uf_fam_cecad, on=['UF', 'ano', 'mes'])"
   ]
  },
  {
   "cell_type": "code",
   "execution_count": 16,
   "metadata": {},
   "outputs": [],
   "source": [
    "uf_cecad['UF'] = uf_cecad['UF'].apply(lambda x: x.split('-')[0].strip())"
   ]
  },
  {
   "cell_type": "code",
   "execution_count": 17,
   "metadata": {},
   "outputs": [],
   "source": [
    "br_cecad = pd.merge(br_pes_cecad, br_fam_cecad, on=['ano', 'mes'])"
   ]
  },
  {
   "cell_type": "code",
   "execution_count": 17,
   "metadata": {},
   "outputs": [],
   "source": [
    "# uf_cecad = cast_to_int(uf_cecad)\n",
    "# br_cecad = cast_to_int(br_cecad)"
   ]
  },
  {
   "cell_type": "code",
   "execution_count": 18,
   "metadata": {},
   "outputs": [],
   "source": [
    "uf_cecad['demanda_reprimida_total'] = uf_cecad['fam_nao_benef_pobreza'] + uf_cecad['fam_nao_benef_ext_pobreza']\n",
    "br_cecad['demanda_reprimida_total'] = br_cecad['fam_nao_benef_pobreza'] + br_cecad['fam_nao_benef_ext_pobreza']\n",
    "uf_cecad['demanda_reprimida_pessoas'] = uf_cecad['pessoas_nao_benef_pobreza'] + uf_cecad['pessoas_nao_benef_ext_pobreza']\n",
    "br_cecad['demanda_reprimida_pessoas'] = br_cecad['pessoas_nao_benef_pobreza'] + br_cecad['pessoas_nao_benef_ext_pobreza']"
   ]
  },
  {
   "cell_type": "markdown",
   "metadata": {},
   "source": [
    "### Adicionando novas linhas referentes à coleta do CECAD ao dataframe da SAGI"
   ]
  },
  {
   "cell_type": "code",
   "execution_count": 19,
   "metadata": {},
   "outputs": [],
   "source": [
    "uf = pd.concat([uf,uf_cecad]).merge(siglas, left_on='UF', right_on='Sigla', how='left')\n",
    "uf.drop(columns=['Sigla'], inplace=True)"
   ]
  },
  {
   "cell_type": "code",
   "execution_count": 20,
   "metadata": {},
   "outputs": [],
   "source": [
    "br = pd.concat([br,br_cecad])"
   ]
  },
  {
   "cell_type": "code",
   "execution_count": 21,
   "metadata": {},
   "outputs": [],
   "source": [
    "dt = datetime.date(datetime.now())\n",
    "br['ts'] = dt"
   ]
  },
  {
   "cell_type": "code",
   "execution_count": 22,
   "metadata": {},
   "outputs": [],
   "source": [
    "to_date(br)\n",
    "to_date(uf)"
   ]
  },
  {
   "cell_type": "code",
   "execution_count": 23,
   "metadata": {},
   "outputs": [
    {
     "data": {
      "text/html": [
       "<div>\n",
       "<style scoped>\n",
       "    .dataframe tbody tr th:only-of-type {\n",
       "        vertical-align: middle;\n",
       "    }\n",
       "\n",
       "    .dataframe tbody tr th {\n",
       "        vertical-align: top;\n",
       "    }\n",
       "\n",
       "    .dataframe thead th {\n",
       "        text-align: right;\n",
       "    }\n",
       "</style>\n",
       "<table border=\"1\" class=\"dataframe\">\n",
       "  <thead>\n",
       "    <tr style=\"text-align: right;\">\n",
       "      <th></th>\n",
       "      <th>ano</th>\n",
       "      <th>mes</th>\n",
       "      <th>fam_nao_benef_ext_pobreza</th>\n",
       "      <th>fam_benef_pobreza</th>\n",
       "      <th>fam_benef_ext_pobreza</th>\n",
       "      <th>fam_nao_benef_pobreza</th>\n",
       "      <th>fam_inscritas_ext_pobreza</th>\n",
       "      <th>fam_insc_pobreza</th>\n",
       "      <th>demanda_reprimida_total</th>\n",
       "      <th>data</th>\n",
       "      <th>pessoas_nao_benef_ext_pobreza</th>\n",
       "      <th>pessoas_nao_benef_pobreza</th>\n",
       "      <th>pessoas_benef_ext_pobreza</th>\n",
       "      <th>pessoas_benef_pobreza</th>\n",
       "      <th>pessoas_inscritas_ext_pobreza</th>\n",
       "      <th>pessoas_insc_pobreza</th>\n",
       "      <th>demanda_reprimida_pessoas</th>\n",
       "      <th>ts</th>\n",
       "    </tr>\n",
       "  </thead>\n",
       "  <tbody>\n",
       "    <tr>\n",
       "      <th>113</th>\n",
       "      <td>2022</td>\n",
       "      <td>1</td>\n",
       "      <td>1188947.0</td>\n",
       "      <td>1805132.0</td>\n",
       "      <td>15787132.0</td>\n",
       "      <td>1081238.0</td>\n",
       "      <td>16975529.0</td>\n",
       "      <td>2886349.0</td>\n",
       "      <td>2270185.0</td>\n",
       "      <td>2022-01-01</td>\n",
       "      <td>NaN</td>\n",
       "      <td>NaN</td>\n",
       "      <td>NaN</td>\n",
       "      <td>NaN</td>\n",
       "      <td>NaN</td>\n",
       "      <td>NaN</td>\n",
       "      <td>NaN</td>\n",
       "      <td>2022-09-06</td>\n",
       "    </tr>\n",
       "    <tr>\n",
       "      <th>114</th>\n",
       "      <td>2022</td>\n",
       "      <td>2</td>\n",
       "      <td>1735253.0</td>\n",
       "      <td>1808270.0</td>\n",
       "      <td>15809665.0</td>\n",
       "      <td>1173835.0</td>\n",
       "      <td>17544358.0</td>\n",
       "      <td>2982086.0</td>\n",
       "      <td>2909088.0</td>\n",
       "      <td>2022-02-01</td>\n",
       "      <td>NaN</td>\n",
       "      <td>NaN</td>\n",
       "      <td>NaN</td>\n",
       "      <td>NaN</td>\n",
       "      <td>NaN</td>\n",
       "      <td>NaN</td>\n",
       "      <td>NaN</td>\n",
       "      <td>2022-09-06</td>\n",
       "    </tr>\n",
       "    <tr>\n",
       "      <th>115</th>\n",
       "      <td>2022</td>\n",
       "      <td>3</td>\n",
       "      <td>1995898.0</td>\n",
       "      <td>1824711.0</td>\n",
       "      <td>15824769.0</td>\n",
       "      <td>1210277.0</td>\n",
       "      <td>17820102.0</td>\n",
       "      <td>3034968.0</td>\n",
       "      <td>3206175.0</td>\n",
       "      <td>2022-03-01</td>\n",
       "      <td>NaN</td>\n",
       "      <td>NaN</td>\n",
       "      <td>NaN</td>\n",
       "      <td>NaN</td>\n",
       "      <td>NaN</td>\n",
       "      <td>NaN</td>\n",
       "      <td>NaN</td>\n",
       "      <td>2022-09-06</td>\n",
       "    </tr>\n",
       "    <tr>\n",
       "      <th>116</th>\n",
       "      <td>2022</td>\n",
       "      <td>4</td>\n",
       "      <td>2282276.0</td>\n",
       "      <td>1779297.0</td>\n",
       "      <td>15932367.0</td>\n",
       "      <td>1356972.0</td>\n",
       "      <td>18214051.0</td>\n",
       "      <td>3136245.0</td>\n",
       "      <td>3639248.0</td>\n",
       "      <td>2022-04-01</td>\n",
       "      <td>NaN</td>\n",
       "      <td>NaN</td>\n",
       "      <td>NaN</td>\n",
       "      <td>NaN</td>\n",
       "      <td>NaN</td>\n",
       "      <td>NaN</td>\n",
       "      <td>NaN</td>\n",
       "      <td>2022-09-06</td>\n",
       "    </tr>\n",
       "    <tr>\n",
       "      <th>0</th>\n",
       "      <td>2022</td>\n",
       "      <td>6</td>\n",
       "      <td>2952002.0</td>\n",
       "      <td>1802565.0</td>\n",
       "      <td>15812333.0</td>\n",
       "      <td>1433607.0</td>\n",
       "      <td>18764335.0</td>\n",
       "      <td>3236172.0</td>\n",
       "      <td>4385609.0</td>\n",
       "      <td>2022-06-01</td>\n",
       "      <td>5172792.0</td>\n",
       "      <td>2874586.0</td>\n",
       "      <td>42096191.0</td>\n",
       "      <td>6168408.0</td>\n",
       "      <td>47268983.0</td>\n",
       "      <td>9042994.0</td>\n",
       "      <td>8047378.0</td>\n",
       "      <td>2022-09-06</td>\n",
       "    </tr>\n",
       "  </tbody>\n",
       "</table>\n",
       "</div>"
      ],
      "text/plain": [
       "      ano  mes  fam_nao_benef_ext_pobreza  fam_benef_pobreza  \\\n",
       "113  2022    1                  1188947.0          1805132.0   \n",
       "114  2022    2                  1735253.0          1808270.0   \n",
       "115  2022    3                  1995898.0          1824711.0   \n",
       "116  2022    4                  2282276.0          1779297.0   \n",
       "0    2022    6                  2952002.0          1802565.0   \n",
       "\n",
       "     fam_benef_ext_pobreza  fam_nao_benef_pobreza  fam_inscritas_ext_pobreza  \\\n",
       "113             15787132.0              1081238.0                 16975529.0   \n",
       "114             15809665.0              1173835.0                 17544358.0   \n",
       "115             15824769.0              1210277.0                 17820102.0   \n",
       "116             15932367.0              1356972.0                 18214051.0   \n",
       "0               15812333.0              1433607.0                 18764335.0   \n",
       "\n",
       "     fam_insc_pobreza  demanda_reprimida_total       data  \\\n",
       "113         2886349.0                2270185.0 2022-01-01   \n",
       "114         2982086.0                2909088.0 2022-02-01   \n",
       "115         3034968.0                3206175.0 2022-03-01   \n",
       "116         3136245.0                3639248.0 2022-04-01   \n",
       "0           3236172.0                4385609.0 2022-06-01   \n",
       "\n",
       "     pessoas_nao_benef_ext_pobreza  pessoas_nao_benef_pobreza  \\\n",
       "113                            NaN                        NaN   \n",
       "114                            NaN                        NaN   \n",
       "115                            NaN                        NaN   \n",
       "116                            NaN                        NaN   \n",
       "0                        5172792.0                  2874586.0   \n",
       "\n",
       "     pessoas_benef_ext_pobreza  pessoas_benef_pobreza  \\\n",
       "113                        NaN                    NaN   \n",
       "114                        NaN                    NaN   \n",
       "115                        NaN                    NaN   \n",
       "116                        NaN                    NaN   \n",
       "0                   42096191.0              6168408.0   \n",
       "\n",
       "     pessoas_inscritas_ext_pobreza  pessoas_insc_pobreza  \\\n",
       "113                            NaN                   NaN   \n",
       "114                            NaN                   NaN   \n",
       "115                            NaN                   NaN   \n",
       "116                            NaN                   NaN   \n",
       "0                       47268983.0             9042994.0   \n",
       "\n",
       "     demanda_reprimida_pessoas          ts  \n",
       "113                        NaN  2022-09-06  \n",
       "114                        NaN  2022-09-06  \n",
       "115                        NaN  2022-09-06  \n",
       "116                        NaN  2022-09-06  \n",
       "0                    8047378.0  2022-09-06  "
      ]
     },
     "execution_count": 23,
     "metadata": {},
     "output_type": "execute_result"
    }
   ],
   "source": [
    "br.tail()"
   ]
  },
  {
   "cell_type": "code",
   "execution_count": 23,
   "metadata": {},
   "outputs": [],
   "source": [
    "br.to_parquet('Results/fam_br.parquet')\n",
    "uf.to_parquet('Results/fam_uf.parquet')\n",
    "df.to_parquet('Results/fam_mun.parquet')"
   ]
  },
  {
   "cell_type": "code",
   "execution_count": 24,
   "metadata": {},
   "outputs": [],
   "source": [
    "br.to_parquet('Results/TEST/test_fam_br.parquet')\n",
    "uf.to_parquet('Results/TEST/test_fam_uf.parquet')\n",
    "df.to_parquet('Results/TEST/fam_mun.parquet')"
   ]
  }
 ],
 "metadata": {
  "kernelspec": {
   "display_name": "Python 3.9.7 ('scraping')",
   "language": "python",
   "name": "python3"
  },
  "language_info": {
   "codemirror_mode": {
    "name": "ipython",
    "version": 3
   },
   "file_extension": ".py",
   "mimetype": "text/x-python",
   "name": "python",
   "nbconvert_exporter": "python",
   "pygments_lexer": "ipython3",
   "version": "3.9.13"
  },
  "orig_nbformat": 4,
  "vscode": {
   "interpreter": {
    "hash": "0b57a106df503026757037a3564c5b06bb9bd0ebd4985fd2fe126eeda7bdee66"
   }
  }
 },
 "nbformat": 4,
 "nbformat_minor": 2
}
